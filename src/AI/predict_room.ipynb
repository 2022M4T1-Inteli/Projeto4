{
  "nbformat": 4,
  "nbformat_minor": 0,
  "metadata": {
    "colab": {
      "provenance": []
    },
    "kernelspec": {
      "name": "python3",
      "display_name": "Python 3"
    },
    "language_info": {
      "name": "python"
    }
  },
  "cells": [
    {
      "cell_type": "markdown",
      "source": [],
      "metadata": {
        "id": "IWdVmCWdHBOy"
      }
    },
    {
      "cell_type": "code",
      "execution_count": 1,
      "metadata": {
        "id": "yyM9P5qSYWe_"
      },
      "outputs": [],
      "source": [
        "import pandas as pd\n",
        "from sklearn.utils import shuffle\n",
        "from pandas import DataFrame\n",
        "import numpy as np\n",
        "from IPython.core.debugger import set_trace"
      ]
    },
    {
      "cell_type": "code",
      "source": [
        "! python -m pip install pymongo==3.7.2"
      ],
      "metadata": {
        "colab": {
          "base_uri": "https://localhost:8080/"
        },
        "id": "qZ4xHOGEYoHp",
        "outputId": "2016fcaa-f791-4d1c-9263-2212e3453583"
      },
      "execution_count": null,
      "outputs": [
        {
          "output_type": "stream",
          "name": "stdout",
          "text": [
            "Looking in indexes: https://pypi.org/simple, https://us-python.pkg.dev/colab-wheels/public/simple/\n",
            "Collecting pymongo==3.7.2\n",
            "  Downloading pymongo-3.7.2.tar.gz (628 kB)\n",
            "\u001b[K     |████████████████████████████████| 628 kB 13.8 MB/s \n",
            "\u001b[?25hBuilding wheels for collected packages: pymongo\n",
            "  Building wheel for pymongo (setup.py) ... \u001b[?25l\u001b[?25hdone\n",
            "  Created wheel for pymongo: filename=pymongo-3.7.2-cp38-cp38-linux_x86_64.whl size=415791 sha256=d12917e288722cafc34ae0b2dd792fd921936b4b2ef169fc02bd19c39f05115f\n",
            "  Stored in directory: /root/.cache/pip/wheels/28/62/b5/ede9674d1415d2c15c3e805e6cc7debfcdf380105da0887776\n",
            "Successfully built pymongo\n"
          ]
        }
      ]
    },
    {
      "cell_type": "code",
      "source": [
        "from google.colab import drive\n",
        "drive.mount('/content/drive', force_remount=True)"
      ],
      "metadata": {
        "id": "b5PXXnb4ddR_"
      },
      "execution_count": null,
      "outputs": []
    },
    {
      "cell_type": "code",
      "source": [
        "from joblib import load\n",
        "gpc_loaded = load('/content/drive/MyDrive/Colab Notebooks/modelos/localizacao.model')\n",
        "gpc_loaded"
      ],
      "metadata": {
        "id": "--8LMSd_ZNoy"
      },
      "execution_count": null,
      "outputs": []
    },
    {
      "cell_type": "code",
      "source": [
        "import datetime                           \n",
        "import pymongo\n",
        "from pymongo import MongoClient\n",
        "# uri (uniform resource identifier) define os parêmtros de conexão com o banco de dados\n",
        "uri = '' #IMPORTANTE: colocar aqui a url do banco de dados mongodb\n",
        "# conecta à coleção alvo do mongoose\n",
        "cluster = MongoClient( uri )\n",
        "db = cluster[\"inteli-iot\"]\n",
        "collection = db[\"locations\"]\n",
        "training_collection = db[\"locationsTrainingData\"]\n"
      ],
      "metadata": {
        "id": "xlmNgjWXYqVL"
      },
      "execution_count": null,
      "outputs": []
    },
    {
      "cell_type": "code",
      "source": [
        "df = pd.DataFrame(list(collection.find({'room': {'$exists': False}})))\n",
        "locations_copy = df.copy()"
      ],
      "metadata": {
        "id": "547cdxH0aRO4"
      },
      "execution_count": null,
      "outputs": []
    },
    {
      "cell_type": "code",
      "source": [
        "formatedTotalSignalsDf = pd.DataFrame()\n",
        "for index, row in df.iterrows():\n",
        "  signalsDf = pd.DataFrame(row.signals)\n",
        "  signalsDf = signalsDf.drop('_id', axis=1)\n",
        "  macAddressArray = signalsDf['macAddress']\n",
        "  strengthArray = signalsDf['strength']\n",
        "\n",
        "  formatedDfData = {}\n",
        "  for signalsIndex, signalsRow in signalsDf.iterrows():\n",
        "    formatedDfData[signalsRow.macAddress] = signalsRow.strength \n",
        "\n",
        "  formatedSignalsDf = pd.DataFrame(formatedDfData, [index])\n",
        "  \n",
        "  formatedTotalSignalsDf = pd.concat([formatedTotalSignalsDf, formatedSignalsDf])\n",
        "    \n",
        "formatedTotalSignalsDf\n",
        "df = pd.concat([df, formatedTotalSignalsDf], axis=1)\n"
      ],
      "metadata": {
        "id": "w61Cwr0jYrtU"
      },
      "execution_count": null,
      "outputs": []
    },
    {
      "cell_type": "code",
      "source": [
        "#Exclusão das colunas que não serão utilizadas\n",
        "df = df.drop('signals', axis=1)\n",
        "df = df.drop('createdAt', axis = 1)\n",
        "id_column = df['_id']\n",
        "df = df.drop('_id', axis=1)\n",
        "df = df.drop('deviceId', axis=1)\n",
        "df = df.drop('__v', axis = 1)\n",
        "df = df.drop('updatedAt', axis = 1)\n",
        "if 'battery' in df.columns:\n",
        "  df = df.drop('battery', axis = 1)\n",
        "  "
      ],
      "metadata": {
        "id": "IV0SwpuP5OuO"
      },
      "execution_count": null,
      "outputs": []
    },
    {
      "cell_type": "code",
      "source": [
        "#Preencher NaN com 0\n",
        "df = df.fillna(0)\n",
        "df"
      ],
      "metadata": {
        "id": "0j6-Lqu4YxOE"
      },
      "execution_count": null,
      "outputs": []
    },
    {
      "cell_type": "code",
      "source": [
        "training_df = pd.DataFrame(list(training_collection.find({'room': {'$exists': True}})))\n",
        "training_df"
      ],
      "metadata": {
        "id": "eP1ifbeKpHMh"
      },
      "execution_count": null,
      "outputs": []
    },
    {
      "cell_type": "code",
      "source": [
        "formatedTotalSignalsDf = pd.DataFrame()\n",
        "for index, row in training_df.iterrows():\n",
        "  signalsDf = pd.DataFrame(row.signals)\n",
        "  signalsDf = signalsDf.drop('_id', axis=1)\n",
        "  macAddressArray = signalsDf['macAddress']\n",
        "  strengthArray = signalsDf['strength']\n",
        "\n",
        "  formatedDfData = {}\n",
        "  for signalsIndex, signalsRow in signalsDf.iterrows():\n",
        "    formatedDfData[signalsRow.macAddress] = signalsRow.strength \n",
        "\n",
        "  formatedSignalsDf = pd.DataFrame(formatedDfData, [index])\n",
        "  \n",
        "  formatedTotalSignalsDf = pd.concat([formatedTotalSignalsDf, formatedSignalsDf])\n",
        "    \n",
        "training_df = pd.concat([training_df, formatedTotalSignalsDf], axis=1)\n"
      ],
      "metadata": {
        "id": "me9R4DsApLIv"
      },
      "execution_count": null,
      "outputs": []
    },
    {
      "cell_type": "code",
      "source": [
        "#Exclusão das colunas que não serão utilizadas\n",
        "training_df = training_df.drop('signals', axis=1)\n",
        "training_df = training_df.drop('createdAt', axis = 1)\n",
        "id_column = training_df['_id']\n",
        "training_df = training_df.drop('_id', axis=1)\n",
        "training_df = training_df.drop('deviceId', axis=1)\n",
        "training_df = training_df.drop('__v', axis = 1)\n",
        "training_df = training_df.drop('updatedAt', axis = 1)\n",
        "if 'battery' in training_df.columns:\n",
        "  training_df = training_df.drop('battery', axis = 1)\n",
        "training_df = training_df.drop('room', axis = 1)"
      ],
      "metadata": {
        "id": "GZV833XSpR5D"
      },
      "execution_count": null,
      "outputs": []
    },
    {
      "cell_type": "code",
      "source": [
        "training_df.shape"
      ],
      "metadata": {
        "id": "qG4VyGPzrpWt"
      },
      "execution_count": null,
      "outputs": []
    },
    {
      "cell_type": "code",
      "source": [
        "df.shape"
      ],
      "metadata": {
        "id": "TFdbJjOqscel"
      },
      "execution_count": null,
      "outputs": []
    },
    {
      "cell_type": "code",
      "source": [
        "missing_columns = training_df.columns.difference(df.columns)\n",
        "missing_columns"
      ],
      "metadata": {
        "id": "rwn10547pZI_"
      },
      "execution_count": null,
      "outputs": []
    },
    {
      "cell_type": "code",
      "source": [
        "missing_columns_2 = df.columns.difference(training_df.columns)\n",
        "len(missing_columns_2) "
      ],
      "metadata": {
        "id": "docQQ8bqssRP"
      },
      "execution_count": null,
      "outputs": []
    },
    {
      "cell_type": "code",
      "source": [
        "# df[missing_columns] = df[missing_columns].fillna(0)\n",
        "for column in missing_columns:\n",
        "  df[column] = 0\n",
        "\n",
        "for column in missing_columns_2:\n",
        "  df.drop(column, axis=1, inplace=True)"
      ],
      "metadata": {
        "id": "DDx3_N7Op9oL"
      },
      "execution_count": null,
      "outputs": []
    },
    {
      "cell_type": "code",
      "source": [
        "training_df.shape"
      ],
      "metadata": {
        "id": "RZ3vhw6Uy1mb"
      },
      "execution_count": null,
      "outputs": []
    },
    {
      "cell_type": "code",
      "source": [
        "y_pred = gpc_loaded.predict(df)\n",
        "y_pred"
      ],
      "metadata": {
        "id": "TTRvvIBeYzhL"
      },
      "execution_count": null,
      "outputs": []
    },
    {
      "cell_type": "code",
      "source": [
        "locations_copy['room'] = y_pred\n",
        "locations_copy"
      ],
      "metadata": {
        "id": "nlxdiA1z1wER"
      },
      "execution_count": null,
      "outputs": []
    },
    {
      "cell_type": "code",
      "source": [
        "# for index, row in locations_copy.iterrows():\n",
        "#   myquery = { \"_id\": row._id }\n",
        "#   newvalues = { \"$set\": { \"room\": row.room } }\n",
        "#   collection.update_one(myquery, newvalues)"
      ],
      "metadata": {
        "id": "cgKoFKSX1_TW"
      },
      "execution_count": null,
      "outputs": []
    }
  ]
}