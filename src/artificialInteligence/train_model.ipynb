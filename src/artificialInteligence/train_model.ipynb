{
  "cells": [
    {
      "cell_type": "markdown",
      "metadata": {
        "id": "zrgf1KG7gHt5"
      },
      "source": [
        "#Importar bibliotecas"
      ]
    },
    {
      "cell_type": "code",
      "execution_count": 2,
      "metadata": {
        "id": "1ZIJHOvygFIn"
      },
      "outputs": [],
      "source": [
        "import pandas as pd\n",
        "from sklearn.utils import shuffle\n",
        "from pandas import DataFrame\n",
        "import numpy as np\n",
        "from IPython.core.debugger import set_trace\n",
        "from sklearn.metrics import accuracy_score\n",
        "from sklearn.metrics import precision_score\n",
        "from sklearn.metrics import recall_score"
      ]
    },
    {
      "cell_type": "code",
      "execution_count": 3,
      "metadata": {
        "id": "4I1p4O7rjph8"
      },
      "outputs": [],
      "source": [
        "from sklearn.ensemble import RandomForestClassifier"
      ]
    },
    {
      "cell_type": "markdown",
      "metadata": {
        "id": "39TKlygsgaw4"
      },
      "source": [
        "#Instalar e importar MongoDB"
      ]
    },
    {
      "cell_type": "code",
      "execution_count": 4,
      "metadata": {
        "colab": {
          "base_uri": "https://localhost:8080/"
        },
        "id": "j00UgwDKgfct",
        "outputId": "2c7bde14-f7bb-4f90-fbed-7c03cba833ad"
      },
      "outputs": [
        {
          "output_type": "stream",
          "name": "stdout",
          "text": [
            "Looking in indexes: https://pypi.org/simple, https://us-python.pkg.dev/colab-wheels/public/simple/\n",
            "Collecting pymongo==3.7.2\n",
            "  Downloading pymongo-3.7.2.tar.gz (628 kB)\n",
            "\u001b[K     |████████████████████████████████| 628 kB 22.0 MB/s \n",
            "\u001b[?25hBuilding wheels for collected packages: pymongo\n",
            "  Building wheel for pymongo (setup.py) ... \u001b[?25l\u001b[?25hdone\n",
            "  Created wheel for pymongo: filename=pymongo-3.7.2-cp38-cp38-linux_x86_64.whl size=415785 sha256=1d5f15adf5e66e0d73f7befe10c69c1caf58bf898e130ec9ba5703694f35bc3f\n",
            "  Stored in directory: /root/.cache/pip/wheels/28/62/b5/ede9674d1415d2c15c3e805e6cc7debfcdf380105da0887776\n",
            "Successfully built pymongo\n",
            "Installing collected packages: pymongo\n",
            "  Attempting uninstall: pymongo\n",
            "    Found existing installation: pymongo 4.3.3\n",
            "    Uninstalling pymongo-4.3.3:\n",
            "      Successfully uninstalled pymongo-4.3.3\n",
            "Successfully installed pymongo-3.7.2\n"
          ]
        }
      ],
      "source": [
        "! python -m pip install pymongo==3.7.2"
      ]
    },
    {
      "cell_type": "code",
      "source": [
        "! python -m pip install imbalanced-learn"
      ],
      "metadata": {
        "colab": {
          "base_uri": "https://localhost:8080/"
        },
        "id": "s-eMr6LHzkRM",
        "outputId": "de89d25b-5394-4236-c414-e7a2c80730cd"
      },
      "execution_count": 5,
      "outputs": [
        {
          "output_type": "stream",
          "name": "stdout",
          "text": [
            "Looking in indexes: https://pypi.org/simple, https://us-python.pkg.dev/colab-wheels/public/simple/\n",
            "Requirement already satisfied: imbalanced-learn in /usr/local/lib/python3.8/dist-packages (0.8.1)\n",
            "Requirement already satisfied: scikit-learn>=0.24 in /usr/local/lib/python3.8/dist-packages (from imbalanced-learn) (1.0.2)\n",
            "Requirement already satisfied: numpy>=1.13.3 in /usr/local/lib/python3.8/dist-packages (from imbalanced-learn) (1.21.6)\n",
            "Requirement already satisfied: joblib>=0.11 in /usr/local/lib/python3.8/dist-packages (from imbalanced-learn) (1.2.0)\n",
            "Requirement already satisfied: scipy>=0.19.1 in /usr/local/lib/python3.8/dist-packages (from imbalanced-learn) (1.7.3)\n",
            "Requirement already satisfied: threadpoolctl>=2.0.0 in /usr/local/lib/python3.8/dist-packages (from scikit-learn>=0.24->imbalanced-learn) (3.1.0)\n"
          ]
        }
      ]
    },
    {
      "cell_type": "code",
      "execution_count": 6,
      "metadata": {
        "id": "2rQ5r4B3gh25"
      },
      "outputs": [],
      "source": [
        "import datetime                           \n",
        "import pymongo\n",
        "from pymongo import MongoClient\n",
        "# uri (uniform resource identifier) define os parêmtros de conexão com o banco de dados\n",
        "uri = '' # IMPORTANTE: colocar aqui a url do banco de dados mongodb\n",
        "# conecta à coleção alvo do mongoose\n",
        "cluster = MongoClient( uri )\n",
        "db = cluster[\"inteli-iot\"]\n",
        "collection = db[\"locationsTrainingData\"]"
      ]
    },
    {
      "cell_type": "markdown",
      "metadata": {
        "id": "0NvNVVzLZq5q"
      },
      "source": [
        "#Tratamento de dados"
      ]
    },
    {
      "cell_type": "markdown",
      "metadata": {
        "id": "MKWppt5kZvV5"
      },
      "source": [
        "Levando em consideração que para fornecer a localização iremos usar a potência de sinal, é necessário saber qual a potência que cada roteador irradia, então será usado o macAddress. Para isso, tratamos os dados coletados no banco, separando cada macAddress distinto sua própria coluna, ou seja, cada macAddress será uma feature, e as potências de sinal dele em cada sala."
      ]
    },
    {
      "cell_type": "code",
      "execution_count": 7,
      "metadata": {
        "colab": {
          "base_uri": "https://localhost:8080/",
          "height": 641
        },
        "id": "YrLPbto98lQQ",
        "outputId": "c792fa82-bafe-4c7f-fdc4-39e9d9ba95d9"
      },
      "outputs": [
        {
          "output_type": "execute_result",
          "data": {
            "text/plain": [
              "                          _id           deviceId      room  \\\n",
              "0    639a1a8b639dabb65f7a1fd9  F4:12:FA:E2:24:04  05/01/01   \n",
              "1    639a1afe639dabb65f7a1ffd  F4:12:FA:E2:24:04  05/01/01   \n",
              "2    639a1b13639dabb65f7a201a  F4:12:FA:E2:24:04  05/01/01   \n",
              "3    639a1b24639dabb65f7a2045  F4:12:FA:E2:24:04  05/01/01   \n",
              "4    639a1b40639dabb65f7a207a  F4:12:FA:E2:24:04  05/01/01   \n",
              "..                        ...                ...       ...   \n",
              "147  6387cfbe119842ac5d7dd34b  F4:12:FA:E2:24:04  05/02/10   \n",
              "148  6387cfc5119842ac5d7dd384  F4:12:FA:E2:24:04  05/02/10   \n",
              "149  6387cfcd119842ac5d7dd3bb  F4:12:FA:E2:24:04  05/02/10   \n",
              "150  6387cfd4119842ac5d7dd3f1  F4:12:FA:E2:24:04  05/02/10   \n",
              "151  6387cfdc119842ac5d7dd427  F4:12:FA:E2:24:04  05/02/10   \n",
              "\n",
              "                                               signals  battery  \\\n",
              "0    [{'macAddress': 'F6:12:FA:E2:55:04', 'strength...     60.0   \n",
              "1    [{'macAddress': 'FE:F6:3A:68:98:A3', 'strength...     60.0   \n",
              "2    [{'macAddress': 'FE:F6:3A:68:98:A3', 'strength...     60.0   \n",
              "3    [{'macAddress': 'FC:5C:45:00:57:48', 'strength...     60.0   \n",
              "4    [{'macAddress': 'FC:5C:45:00:57:48', 'strength...     60.0   \n",
              "..                                                 ...      ...   \n",
              "147  [{'macAddress': 'F6:12:FA:E2:06:18', 'strength...      NaN   \n",
              "148  [{'macAddress': 'F6:12:FA:E2:06:18', 'strength...      NaN   \n",
              "149  [{'macAddress': 'F6:12:FA:E2:06:18', 'strength...      NaN   \n",
              "150  [{'macAddress': 'F6:12:FA:E2:06:18', 'strength...      NaN   \n",
              "151  [{'macAddress': 'F6:12:FA:E2:06:18', 'strength...      NaN   \n",
              "\n",
              "                  createdAt               updatedAt  __v  \n",
              "0   2022-12-14 18:48:43.522 2022-12-14 18:48:43.522    0  \n",
              "1   2022-12-14 18:50:38.387 2022-12-14 18:50:38.387    0  \n",
              "2   2022-12-14 18:50:59.473 2022-12-14 18:50:59.473    0  \n",
              "3   2022-12-14 18:51:16.251 2022-12-14 18:51:16.251    0  \n",
              "4   2022-12-14 18:51:44.338 2022-12-14 18:51:44.338    0  \n",
              "..                      ...                     ...  ...  \n",
              "147 2022-11-30 21:48:46.262 2022-11-30 21:48:46.262    0  \n",
              "148 2022-11-30 21:48:53.858 2022-11-30 21:48:53.858    0  \n",
              "149 2022-11-30 21:49:01.409 2022-11-30 21:49:01.409    0  \n",
              "150 2022-11-30 21:49:08.933 2022-11-30 21:49:08.933    0  \n",
              "151 2022-11-30 21:49:16.661 2022-11-30 21:49:16.661    0  \n",
              "\n",
              "[152 rows x 8 columns]"
            ],
            "text/html": [
              "\n",
              "  <div id=\"df-aa58d006-29d7-47c7-af95-cafc66dd1abb\">\n",
              "    <div class=\"colab-df-container\">\n",
              "      <div>\n",
              "<style scoped>\n",
              "    .dataframe tbody tr th:only-of-type {\n",
              "        vertical-align: middle;\n",
              "    }\n",
              "\n",
              "    .dataframe tbody tr th {\n",
              "        vertical-align: top;\n",
              "    }\n",
              "\n",
              "    .dataframe thead th {\n",
              "        text-align: right;\n",
              "    }\n",
              "</style>\n",
              "<table border=\"1\" class=\"dataframe\">\n",
              "  <thead>\n",
              "    <tr style=\"text-align: right;\">\n",
              "      <th></th>\n",
              "      <th>_id</th>\n",
              "      <th>deviceId</th>\n",
              "      <th>room</th>\n",
              "      <th>signals</th>\n",
              "      <th>battery</th>\n",
              "      <th>createdAt</th>\n",
              "      <th>updatedAt</th>\n",
              "      <th>__v</th>\n",
              "    </tr>\n",
              "  </thead>\n",
              "  <tbody>\n",
              "    <tr>\n",
              "      <th>0</th>\n",
              "      <td>639a1a8b639dabb65f7a1fd9</td>\n",
              "      <td>F4:12:FA:E2:24:04</td>\n",
              "      <td>05/01/01</td>\n",
              "      <td>[{'macAddress': 'F6:12:FA:E2:55:04', 'strength...</td>\n",
              "      <td>60.0</td>\n",
              "      <td>2022-12-14 18:48:43.522</td>\n",
              "      <td>2022-12-14 18:48:43.522</td>\n",
              "      <td>0</td>\n",
              "    </tr>\n",
              "    <tr>\n",
              "      <th>1</th>\n",
              "      <td>639a1afe639dabb65f7a1ffd</td>\n",
              "      <td>F4:12:FA:E2:24:04</td>\n",
              "      <td>05/01/01</td>\n",
              "      <td>[{'macAddress': 'FE:F6:3A:68:98:A3', 'strength...</td>\n",
              "      <td>60.0</td>\n",
              "      <td>2022-12-14 18:50:38.387</td>\n",
              "      <td>2022-12-14 18:50:38.387</td>\n",
              "      <td>0</td>\n",
              "    </tr>\n",
              "    <tr>\n",
              "      <th>2</th>\n",
              "      <td>639a1b13639dabb65f7a201a</td>\n",
              "      <td>F4:12:FA:E2:24:04</td>\n",
              "      <td>05/01/01</td>\n",
              "      <td>[{'macAddress': 'FE:F6:3A:68:98:A3', 'strength...</td>\n",
              "      <td>60.0</td>\n",
              "      <td>2022-12-14 18:50:59.473</td>\n",
              "      <td>2022-12-14 18:50:59.473</td>\n",
              "      <td>0</td>\n",
              "    </tr>\n",
              "    <tr>\n",
              "      <th>3</th>\n",
              "      <td>639a1b24639dabb65f7a2045</td>\n",
              "      <td>F4:12:FA:E2:24:04</td>\n",
              "      <td>05/01/01</td>\n",
              "      <td>[{'macAddress': 'FC:5C:45:00:57:48', 'strength...</td>\n",
              "      <td>60.0</td>\n",
              "      <td>2022-12-14 18:51:16.251</td>\n",
              "      <td>2022-12-14 18:51:16.251</td>\n",
              "      <td>0</td>\n",
              "    </tr>\n",
              "    <tr>\n",
              "      <th>4</th>\n",
              "      <td>639a1b40639dabb65f7a207a</td>\n",
              "      <td>F4:12:FA:E2:24:04</td>\n",
              "      <td>05/01/01</td>\n",
              "      <td>[{'macAddress': 'FC:5C:45:00:57:48', 'strength...</td>\n",
              "      <td>60.0</td>\n",
              "      <td>2022-12-14 18:51:44.338</td>\n",
              "      <td>2022-12-14 18:51:44.338</td>\n",
              "      <td>0</td>\n",
              "    </tr>\n",
              "    <tr>\n",
              "      <th>...</th>\n",
              "      <td>...</td>\n",
              "      <td>...</td>\n",
              "      <td>...</td>\n",
              "      <td>...</td>\n",
              "      <td>...</td>\n",
              "      <td>...</td>\n",
              "      <td>...</td>\n",
              "      <td>...</td>\n",
              "    </tr>\n",
              "    <tr>\n",
              "      <th>147</th>\n",
              "      <td>6387cfbe119842ac5d7dd34b</td>\n",
              "      <td>F4:12:FA:E2:24:04</td>\n",
              "      <td>05/02/10</td>\n",
              "      <td>[{'macAddress': 'F6:12:FA:E2:06:18', 'strength...</td>\n",
              "      <td>NaN</td>\n",
              "      <td>2022-11-30 21:48:46.262</td>\n",
              "      <td>2022-11-30 21:48:46.262</td>\n",
              "      <td>0</td>\n",
              "    </tr>\n",
              "    <tr>\n",
              "      <th>148</th>\n",
              "      <td>6387cfc5119842ac5d7dd384</td>\n",
              "      <td>F4:12:FA:E2:24:04</td>\n",
              "      <td>05/02/10</td>\n",
              "      <td>[{'macAddress': 'F6:12:FA:E2:06:18', 'strength...</td>\n",
              "      <td>NaN</td>\n",
              "      <td>2022-11-30 21:48:53.858</td>\n",
              "      <td>2022-11-30 21:48:53.858</td>\n",
              "      <td>0</td>\n",
              "    </tr>\n",
              "    <tr>\n",
              "      <th>149</th>\n",
              "      <td>6387cfcd119842ac5d7dd3bb</td>\n",
              "      <td>F4:12:FA:E2:24:04</td>\n",
              "      <td>05/02/10</td>\n",
              "      <td>[{'macAddress': 'F6:12:FA:E2:06:18', 'strength...</td>\n",
              "      <td>NaN</td>\n",
              "      <td>2022-11-30 21:49:01.409</td>\n",
              "      <td>2022-11-30 21:49:01.409</td>\n",
              "      <td>0</td>\n",
              "    </tr>\n",
              "    <tr>\n",
              "      <th>150</th>\n",
              "      <td>6387cfd4119842ac5d7dd3f1</td>\n",
              "      <td>F4:12:FA:E2:24:04</td>\n",
              "      <td>05/02/10</td>\n",
              "      <td>[{'macAddress': 'F6:12:FA:E2:06:18', 'strength...</td>\n",
              "      <td>NaN</td>\n",
              "      <td>2022-11-30 21:49:08.933</td>\n",
              "      <td>2022-11-30 21:49:08.933</td>\n",
              "      <td>0</td>\n",
              "    </tr>\n",
              "    <tr>\n",
              "      <th>151</th>\n",
              "      <td>6387cfdc119842ac5d7dd427</td>\n",
              "      <td>F4:12:FA:E2:24:04</td>\n",
              "      <td>05/02/10</td>\n",
              "      <td>[{'macAddress': 'F6:12:FA:E2:06:18', 'strength...</td>\n",
              "      <td>NaN</td>\n",
              "      <td>2022-11-30 21:49:16.661</td>\n",
              "      <td>2022-11-30 21:49:16.661</td>\n",
              "      <td>0</td>\n",
              "    </tr>\n",
              "  </tbody>\n",
              "</table>\n",
              "<p>152 rows × 8 columns</p>\n",
              "</div>\n",
              "      <button class=\"colab-df-convert\" onclick=\"convertToInteractive('df-aa58d006-29d7-47c7-af95-cafc66dd1abb')\"\n",
              "              title=\"Convert this dataframe to an interactive table.\"\n",
              "              style=\"display:none;\">\n",
              "        \n",
              "  <svg xmlns=\"http://www.w3.org/2000/svg\" height=\"24px\"viewBox=\"0 0 24 24\"\n",
              "       width=\"24px\">\n",
              "    <path d=\"M0 0h24v24H0V0z\" fill=\"none\"/>\n",
              "    <path d=\"M18.56 5.44l.94 2.06.94-2.06 2.06-.94-2.06-.94-.94-2.06-.94 2.06-2.06.94zm-11 1L8.5 8.5l.94-2.06 2.06-.94-2.06-.94L8.5 2.5l-.94 2.06-2.06.94zm10 10l.94 2.06.94-2.06 2.06-.94-2.06-.94-.94-2.06-.94 2.06-2.06.94z\"/><path d=\"M17.41 7.96l-1.37-1.37c-.4-.4-.92-.59-1.43-.59-.52 0-1.04.2-1.43.59L10.3 9.45l-7.72 7.72c-.78.78-.78 2.05 0 2.83L4 21.41c.39.39.9.59 1.41.59.51 0 1.02-.2 1.41-.59l7.78-7.78 2.81-2.81c.8-.78.8-2.07 0-2.86zM5.41 20L4 18.59l7.72-7.72 1.47 1.35L5.41 20z\"/>\n",
              "  </svg>\n",
              "      </button>\n",
              "      \n",
              "  <style>\n",
              "    .colab-df-container {\n",
              "      display:flex;\n",
              "      flex-wrap:wrap;\n",
              "      gap: 12px;\n",
              "    }\n",
              "\n",
              "    .colab-df-convert {\n",
              "      background-color: #E8F0FE;\n",
              "      border: none;\n",
              "      border-radius: 50%;\n",
              "      cursor: pointer;\n",
              "      display: none;\n",
              "      fill: #1967D2;\n",
              "      height: 32px;\n",
              "      padding: 0 0 0 0;\n",
              "      width: 32px;\n",
              "    }\n",
              "\n",
              "    .colab-df-convert:hover {\n",
              "      background-color: #E2EBFA;\n",
              "      box-shadow: 0px 1px 2px rgba(60, 64, 67, 0.3), 0px 1px 3px 1px rgba(60, 64, 67, 0.15);\n",
              "      fill: #174EA6;\n",
              "    }\n",
              "\n",
              "    [theme=dark] .colab-df-convert {\n",
              "      background-color: #3B4455;\n",
              "      fill: #D2E3FC;\n",
              "    }\n",
              "\n",
              "    [theme=dark] .colab-df-convert:hover {\n",
              "      background-color: #434B5C;\n",
              "      box-shadow: 0px 1px 3px 1px rgba(0, 0, 0, 0.15);\n",
              "      filter: drop-shadow(0px 1px 2px rgba(0, 0, 0, 0.3));\n",
              "      fill: #FFFFFF;\n",
              "    }\n",
              "  </style>\n",
              "\n",
              "      <script>\n",
              "        const buttonEl =\n",
              "          document.querySelector('#df-aa58d006-29d7-47c7-af95-cafc66dd1abb button.colab-df-convert');\n",
              "        buttonEl.style.display =\n",
              "          google.colab.kernel.accessAllowed ? 'block' : 'none';\n",
              "\n",
              "        async function convertToInteractive(key) {\n",
              "          const element = document.querySelector('#df-aa58d006-29d7-47c7-af95-cafc66dd1abb');\n",
              "          const dataTable =\n",
              "            await google.colab.kernel.invokeFunction('convertToInteractive',\n",
              "                                                     [key], {});\n",
              "          if (!dataTable) return;\n",
              "\n",
              "          const docLinkHtml = 'Like what you see? Visit the ' +\n",
              "            '<a target=\"_blank\" href=https://colab.research.google.com/notebooks/data_table.ipynb>data table notebook</a>'\n",
              "            + ' to learn more about interactive tables.';\n",
              "          element.innerHTML = '';\n",
              "          dataTable['output_type'] = 'display_data';\n",
              "          await google.colab.output.renderOutput(dataTable, element);\n",
              "          const docLink = document.createElement('div');\n",
              "          docLink.innerHTML = docLinkHtml;\n",
              "          element.appendChild(docLink);\n",
              "        }\n",
              "      </script>\n",
              "    </div>\n",
              "  </div>\n",
              "  "
            ]
          },
          "metadata": {},
          "execution_count": 7
        }
      ],
      "source": [
        "df = pd.DataFrame(list(collection.find({'room': {'$exists': True}})))\n",
        "df"
      ]
    },
    {
      "cell_type": "markdown",
      "source": [
        "## Transformando a coluna signals em colunas com o nome como o MacAddress e o valor como a potência para conseguir treinar a inteligência"
      ],
      "metadata": {
        "id": "LToYuQ_aDazM"
      }
    },
    {
      "cell_type": "code",
      "execution_count": 8,
      "metadata": {
        "colab": {
          "base_uri": "https://localhost:8080/",
          "height": 835
        },
        "id": "vH3-L1ByDQ3t",
        "outputId": "3f8064e7-86fa-43a5-c5da-eb3e60c68273"
      },
      "outputs": [
        {
          "output_type": "execute_result",
          "data": {
            "text/plain": [
              "                          _id           deviceId      room  \\\n",
              "0    639a1a8b639dabb65f7a1fd9  F4:12:FA:E2:24:04  05/01/01   \n",
              "1    639a1afe639dabb65f7a1ffd  F4:12:FA:E2:24:04  05/01/01   \n",
              "2    639a1b13639dabb65f7a201a  F4:12:FA:E2:24:04  05/01/01   \n",
              "3    639a1b24639dabb65f7a2045  F4:12:FA:E2:24:04  05/01/01   \n",
              "4    639a1b40639dabb65f7a207a  F4:12:FA:E2:24:04  05/01/01   \n",
              "..                        ...                ...       ...   \n",
              "147  6387cfbe119842ac5d7dd34b  F4:12:FA:E2:24:04  05/02/10   \n",
              "148  6387cfc5119842ac5d7dd384  F4:12:FA:E2:24:04  05/02/10   \n",
              "149  6387cfcd119842ac5d7dd3bb  F4:12:FA:E2:24:04  05/02/10   \n",
              "150  6387cfd4119842ac5d7dd3f1  F4:12:FA:E2:24:04  05/02/10   \n",
              "151  6387cfdc119842ac5d7dd427  F4:12:FA:E2:24:04  05/02/10   \n",
              "\n",
              "                                               signals  battery  \\\n",
              "0    [{'macAddress': 'F6:12:FA:E2:55:04', 'strength...     60.0   \n",
              "1    [{'macAddress': 'FE:F6:3A:68:98:A3', 'strength...     60.0   \n",
              "2    [{'macAddress': 'FE:F6:3A:68:98:A3', 'strength...     60.0   \n",
              "3    [{'macAddress': 'FC:5C:45:00:57:48', 'strength...     60.0   \n",
              "4    [{'macAddress': 'FC:5C:45:00:57:48', 'strength...     60.0   \n",
              "..                                                 ...      ...   \n",
              "147  [{'macAddress': 'F6:12:FA:E2:06:18', 'strength...      NaN   \n",
              "148  [{'macAddress': 'F6:12:FA:E2:06:18', 'strength...      NaN   \n",
              "149  [{'macAddress': 'F6:12:FA:E2:06:18', 'strength...      NaN   \n",
              "150  [{'macAddress': 'F6:12:FA:E2:06:18', 'strength...      NaN   \n",
              "151  [{'macAddress': 'F6:12:FA:E2:06:18', 'strength...      NaN   \n",
              "\n",
              "                  createdAt               updatedAt  __v  F6:12:FA:E2:55:04  \\\n",
              "0   2022-12-14 18:48:43.522 2022-12-14 18:48:43.522    0              -46.0   \n",
              "1   2022-12-14 18:50:38.387 2022-12-14 18:50:38.387    0                NaN   \n",
              "2   2022-12-14 18:50:59.473 2022-12-14 18:50:59.473    0                NaN   \n",
              "3   2022-12-14 18:51:16.251 2022-12-14 18:51:16.251    0                NaN   \n",
              "4   2022-12-14 18:51:44.338 2022-12-14 18:51:44.338    0                NaN   \n",
              "..                      ...                     ...  ...                ...   \n",
              "147 2022-11-30 21:48:46.262 2022-11-30 21:48:46.262    0                NaN   \n",
              "148 2022-11-30 21:48:53.858 2022-11-30 21:48:53.858    0                NaN   \n",
              "149 2022-11-30 21:49:01.409 2022-11-30 21:49:01.409    0                NaN   \n",
              "150 2022-11-30 21:49:08.933 2022-11-30 21:49:08.933    0                NaN   \n",
              "151 2022-11-30 21:49:16.661 2022-11-30 21:49:16.661    0                NaN   \n",
              "\n",
              "     FE:F6:3A:68:98:A3  ...  FC:5C:45:C0:5F:68  FC:5C:45:C0:5F:69  \\\n",
              "0                -52.0  ...                NaN                NaN   \n",
              "1                -46.0  ...                NaN                NaN   \n",
              "2                -56.0  ...                NaN                NaN   \n",
              "3                -59.0  ...                NaN                NaN   \n",
              "4                -59.0  ...                NaN                NaN   \n",
              "..                 ...  ...                ...                ...   \n",
              "147                NaN  ...                NaN                NaN   \n",
              "148                NaN  ...                NaN                NaN   \n",
              "149                NaN  ...                NaN                NaN   \n",
              "150                NaN  ...                NaN                NaN   \n",
              "151                NaN  ...                NaN                NaN   \n",
              "\n",
              "     FC:5C:45:00:5F:6A  F6:12:FA:E2:3F:24  FC:5C:45:C0:55:13  \\\n",
              "0                  NaN                NaN                NaN   \n",
              "1                  NaN                NaN                NaN   \n",
              "2                  NaN                NaN                NaN   \n",
              "3                  NaN                NaN                NaN   \n",
              "4                  NaN                NaN                NaN   \n",
              "..                 ...                ...                ...   \n",
              "147                NaN              -86.0              -71.0   \n",
              "148                NaN              -84.0              -73.0   \n",
              "149                NaN              -76.0              -72.0   \n",
              "150                NaN              -78.0              -71.0   \n",
              "151                NaN                NaN              -72.0   \n",
              "\n",
              "     8A:29:A4:23:08:AC  F6:12:FA:E2:06:18  96:00:DA:76:2A:CD  \\\n",
              "0                  NaN                NaN                NaN   \n",
              "1                  NaN                NaN                NaN   \n",
              "2                  NaN                NaN                NaN   \n",
              "3                  NaN                NaN                NaN   \n",
              "4                  NaN                NaN                NaN   \n",
              "..                 ...                ...                ...   \n",
              "147                NaN              -45.0              -74.0   \n",
              "148                NaN              -44.0              -73.0   \n",
              "149                NaN              -44.0              -74.0   \n",
              "150                NaN              -47.0              -75.0   \n",
              "151                NaN              -45.0              -77.0   \n",
              "\n",
              "     EE:4A:23:4A:FB:C9  6E:C7:EC:79:19:D0  \n",
              "0                  NaN                NaN  \n",
              "1                  NaN                NaN  \n",
              "2                  NaN                NaN  \n",
              "3                  NaN                NaN  \n",
              "4                  NaN                NaN  \n",
              "..                 ...                ...  \n",
              "147              -87.0                NaN  \n",
              "148              -90.0                NaN  \n",
              "149              -93.0              -92.0  \n",
              "150                NaN                NaN  \n",
              "151                NaN                NaN  \n",
              "\n",
              "[152 rows x 148 columns]"
            ],
            "text/html": [
              "\n",
              "  <div id=\"df-ca994b29-1a3b-4425-81b4-b7d0c8aa805a\">\n",
              "    <div class=\"colab-df-container\">\n",
              "      <div>\n",
              "<style scoped>\n",
              "    .dataframe tbody tr th:only-of-type {\n",
              "        vertical-align: middle;\n",
              "    }\n",
              "\n",
              "    .dataframe tbody tr th {\n",
              "        vertical-align: top;\n",
              "    }\n",
              "\n",
              "    .dataframe thead th {\n",
              "        text-align: right;\n",
              "    }\n",
              "</style>\n",
              "<table border=\"1\" class=\"dataframe\">\n",
              "  <thead>\n",
              "    <tr style=\"text-align: right;\">\n",
              "      <th></th>\n",
              "      <th>_id</th>\n",
              "      <th>deviceId</th>\n",
              "      <th>room</th>\n",
              "      <th>signals</th>\n",
              "      <th>battery</th>\n",
              "      <th>createdAt</th>\n",
              "      <th>updatedAt</th>\n",
              "      <th>__v</th>\n",
              "      <th>F6:12:FA:E2:55:04</th>\n",
              "      <th>FE:F6:3A:68:98:A3</th>\n",
              "      <th>...</th>\n",
              "      <th>FC:5C:45:C0:5F:68</th>\n",
              "      <th>FC:5C:45:C0:5F:69</th>\n",
              "      <th>FC:5C:45:00:5F:6A</th>\n",
              "      <th>F6:12:FA:E2:3F:24</th>\n",
              "      <th>FC:5C:45:C0:55:13</th>\n",
              "      <th>8A:29:A4:23:08:AC</th>\n",
              "      <th>F6:12:FA:E2:06:18</th>\n",
              "      <th>96:00:DA:76:2A:CD</th>\n",
              "      <th>EE:4A:23:4A:FB:C9</th>\n",
              "      <th>6E:C7:EC:79:19:D0</th>\n",
              "    </tr>\n",
              "  </thead>\n",
              "  <tbody>\n",
              "    <tr>\n",
              "      <th>0</th>\n",
              "      <td>639a1a8b639dabb65f7a1fd9</td>\n",
              "      <td>F4:12:FA:E2:24:04</td>\n",
              "      <td>05/01/01</td>\n",
              "      <td>[{'macAddress': 'F6:12:FA:E2:55:04', 'strength...</td>\n",
              "      <td>60.0</td>\n",
              "      <td>2022-12-14 18:48:43.522</td>\n",
              "      <td>2022-12-14 18:48:43.522</td>\n",
              "      <td>0</td>\n",
              "      <td>-46.0</td>\n",
              "      <td>-52.0</td>\n",
              "      <td>...</td>\n",
              "      <td>NaN</td>\n",
              "      <td>NaN</td>\n",
              "      <td>NaN</td>\n",
              "      <td>NaN</td>\n",
              "      <td>NaN</td>\n",
              "      <td>NaN</td>\n",
              "      <td>NaN</td>\n",
              "      <td>NaN</td>\n",
              "      <td>NaN</td>\n",
              "      <td>NaN</td>\n",
              "    </tr>\n",
              "    <tr>\n",
              "      <th>1</th>\n",
              "      <td>639a1afe639dabb65f7a1ffd</td>\n",
              "      <td>F4:12:FA:E2:24:04</td>\n",
              "      <td>05/01/01</td>\n",
              "      <td>[{'macAddress': 'FE:F6:3A:68:98:A3', 'strength...</td>\n",
              "      <td>60.0</td>\n",
              "      <td>2022-12-14 18:50:38.387</td>\n",
              "      <td>2022-12-14 18:50:38.387</td>\n",
              "      <td>0</td>\n",
              "      <td>NaN</td>\n",
              "      <td>-46.0</td>\n",
              "      <td>...</td>\n",
              "      <td>NaN</td>\n",
              "      <td>NaN</td>\n",
              "      <td>NaN</td>\n",
              "      <td>NaN</td>\n",
              "      <td>NaN</td>\n",
              "      <td>NaN</td>\n",
              "      <td>NaN</td>\n",
              "      <td>NaN</td>\n",
              "      <td>NaN</td>\n",
              "      <td>NaN</td>\n",
              "    </tr>\n",
              "    <tr>\n",
              "      <th>2</th>\n",
              "      <td>639a1b13639dabb65f7a201a</td>\n",
              "      <td>F4:12:FA:E2:24:04</td>\n",
              "      <td>05/01/01</td>\n",
              "      <td>[{'macAddress': 'FE:F6:3A:68:98:A3', 'strength...</td>\n",
              "      <td>60.0</td>\n",
              "      <td>2022-12-14 18:50:59.473</td>\n",
              "      <td>2022-12-14 18:50:59.473</td>\n",
              "      <td>0</td>\n",
              "      <td>NaN</td>\n",
              "      <td>-56.0</td>\n",
              "      <td>...</td>\n",
              "      <td>NaN</td>\n",
              "      <td>NaN</td>\n",
              "      <td>NaN</td>\n",
              "      <td>NaN</td>\n",
              "      <td>NaN</td>\n",
              "      <td>NaN</td>\n",
              "      <td>NaN</td>\n",
              "      <td>NaN</td>\n",
              "      <td>NaN</td>\n",
              "      <td>NaN</td>\n",
              "    </tr>\n",
              "    <tr>\n",
              "      <th>3</th>\n",
              "      <td>639a1b24639dabb65f7a2045</td>\n",
              "      <td>F4:12:FA:E2:24:04</td>\n",
              "      <td>05/01/01</td>\n",
              "      <td>[{'macAddress': 'FC:5C:45:00:57:48', 'strength...</td>\n",
              "      <td>60.0</td>\n",
              "      <td>2022-12-14 18:51:16.251</td>\n",
              "      <td>2022-12-14 18:51:16.251</td>\n",
              "      <td>0</td>\n",
              "      <td>NaN</td>\n",
              "      <td>-59.0</td>\n",
              "      <td>...</td>\n",
              "      <td>NaN</td>\n",
              "      <td>NaN</td>\n",
              "      <td>NaN</td>\n",
              "      <td>NaN</td>\n",
              "      <td>NaN</td>\n",
              "      <td>NaN</td>\n",
              "      <td>NaN</td>\n",
              "      <td>NaN</td>\n",
              "      <td>NaN</td>\n",
              "      <td>NaN</td>\n",
              "    </tr>\n",
              "    <tr>\n",
              "      <th>4</th>\n",
              "      <td>639a1b40639dabb65f7a207a</td>\n",
              "      <td>F4:12:FA:E2:24:04</td>\n",
              "      <td>05/01/01</td>\n",
              "      <td>[{'macAddress': 'FC:5C:45:00:57:48', 'strength...</td>\n",
              "      <td>60.0</td>\n",
              "      <td>2022-12-14 18:51:44.338</td>\n",
              "      <td>2022-12-14 18:51:44.338</td>\n",
              "      <td>0</td>\n",
              "      <td>NaN</td>\n",
              "      <td>-59.0</td>\n",
              "      <td>...</td>\n",
              "      <td>NaN</td>\n",
              "      <td>NaN</td>\n",
              "      <td>NaN</td>\n",
              "      <td>NaN</td>\n",
              "      <td>NaN</td>\n",
              "      <td>NaN</td>\n",
              "      <td>NaN</td>\n",
              "      <td>NaN</td>\n",
              "      <td>NaN</td>\n",
              "      <td>NaN</td>\n",
              "    </tr>\n",
              "    <tr>\n",
              "      <th>...</th>\n",
              "      <td>...</td>\n",
              "      <td>...</td>\n",
              "      <td>...</td>\n",
              "      <td>...</td>\n",
              "      <td>...</td>\n",
              "      <td>...</td>\n",
              "      <td>...</td>\n",
              "      <td>...</td>\n",
              "      <td>...</td>\n",
              "      <td>...</td>\n",
              "      <td>...</td>\n",
              "      <td>...</td>\n",
              "      <td>...</td>\n",
              "      <td>...</td>\n",
              "      <td>...</td>\n",
              "      <td>...</td>\n",
              "      <td>...</td>\n",
              "      <td>...</td>\n",
              "      <td>...</td>\n",
              "      <td>...</td>\n",
              "      <td>...</td>\n",
              "    </tr>\n",
              "    <tr>\n",
              "      <th>147</th>\n",
              "      <td>6387cfbe119842ac5d7dd34b</td>\n",
              "      <td>F4:12:FA:E2:24:04</td>\n",
              "      <td>05/02/10</td>\n",
              "      <td>[{'macAddress': 'F6:12:FA:E2:06:18', 'strength...</td>\n",
              "      <td>NaN</td>\n",
              "      <td>2022-11-30 21:48:46.262</td>\n",
              "      <td>2022-11-30 21:48:46.262</td>\n",
              "      <td>0</td>\n",
              "      <td>NaN</td>\n",
              "      <td>NaN</td>\n",
              "      <td>...</td>\n",
              "      <td>NaN</td>\n",
              "      <td>NaN</td>\n",
              "      <td>NaN</td>\n",
              "      <td>-86.0</td>\n",
              "      <td>-71.0</td>\n",
              "      <td>NaN</td>\n",
              "      <td>-45.0</td>\n",
              "      <td>-74.0</td>\n",
              "      <td>-87.0</td>\n",
              "      <td>NaN</td>\n",
              "    </tr>\n",
              "    <tr>\n",
              "      <th>148</th>\n",
              "      <td>6387cfc5119842ac5d7dd384</td>\n",
              "      <td>F4:12:FA:E2:24:04</td>\n",
              "      <td>05/02/10</td>\n",
              "      <td>[{'macAddress': 'F6:12:FA:E2:06:18', 'strength...</td>\n",
              "      <td>NaN</td>\n",
              "      <td>2022-11-30 21:48:53.858</td>\n",
              "      <td>2022-11-30 21:48:53.858</td>\n",
              "      <td>0</td>\n",
              "      <td>NaN</td>\n",
              "      <td>NaN</td>\n",
              "      <td>...</td>\n",
              "      <td>NaN</td>\n",
              "      <td>NaN</td>\n",
              "      <td>NaN</td>\n",
              "      <td>-84.0</td>\n",
              "      <td>-73.0</td>\n",
              "      <td>NaN</td>\n",
              "      <td>-44.0</td>\n",
              "      <td>-73.0</td>\n",
              "      <td>-90.0</td>\n",
              "      <td>NaN</td>\n",
              "    </tr>\n",
              "    <tr>\n",
              "      <th>149</th>\n",
              "      <td>6387cfcd119842ac5d7dd3bb</td>\n",
              "      <td>F4:12:FA:E2:24:04</td>\n",
              "      <td>05/02/10</td>\n",
              "      <td>[{'macAddress': 'F6:12:FA:E2:06:18', 'strength...</td>\n",
              "      <td>NaN</td>\n",
              "      <td>2022-11-30 21:49:01.409</td>\n",
              "      <td>2022-11-30 21:49:01.409</td>\n",
              "      <td>0</td>\n",
              "      <td>NaN</td>\n",
              "      <td>NaN</td>\n",
              "      <td>...</td>\n",
              "      <td>NaN</td>\n",
              "      <td>NaN</td>\n",
              "      <td>NaN</td>\n",
              "      <td>-76.0</td>\n",
              "      <td>-72.0</td>\n",
              "      <td>NaN</td>\n",
              "      <td>-44.0</td>\n",
              "      <td>-74.0</td>\n",
              "      <td>-93.0</td>\n",
              "      <td>-92.0</td>\n",
              "    </tr>\n",
              "    <tr>\n",
              "      <th>150</th>\n",
              "      <td>6387cfd4119842ac5d7dd3f1</td>\n",
              "      <td>F4:12:FA:E2:24:04</td>\n",
              "      <td>05/02/10</td>\n",
              "      <td>[{'macAddress': 'F6:12:FA:E2:06:18', 'strength...</td>\n",
              "      <td>NaN</td>\n",
              "      <td>2022-11-30 21:49:08.933</td>\n",
              "      <td>2022-11-30 21:49:08.933</td>\n",
              "      <td>0</td>\n",
              "      <td>NaN</td>\n",
              "      <td>NaN</td>\n",
              "      <td>...</td>\n",
              "      <td>NaN</td>\n",
              "      <td>NaN</td>\n",
              "      <td>NaN</td>\n",
              "      <td>-78.0</td>\n",
              "      <td>-71.0</td>\n",
              "      <td>NaN</td>\n",
              "      <td>-47.0</td>\n",
              "      <td>-75.0</td>\n",
              "      <td>NaN</td>\n",
              "      <td>NaN</td>\n",
              "    </tr>\n",
              "    <tr>\n",
              "      <th>151</th>\n",
              "      <td>6387cfdc119842ac5d7dd427</td>\n",
              "      <td>F4:12:FA:E2:24:04</td>\n",
              "      <td>05/02/10</td>\n",
              "      <td>[{'macAddress': 'F6:12:FA:E2:06:18', 'strength...</td>\n",
              "      <td>NaN</td>\n",
              "      <td>2022-11-30 21:49:16.661</td>\n",
              "      <td>2022-11-30 21:49:16.661</td>\n",
              "      <td>0</td>\n",
              "      <td>NaN</td>\n",
              "      <td>NaN</td>\n",
              "      <td>...</td>\n",
              "      <td>NaN</td>\n",
              "      <td>NaN</td>\n",
              "      <td>NaN</td>\n",
              "      <td>NaN</td>\n",
              "      <td>-72.0</td>\n",
              "      <td>NaN</td>\n",
              "      <td>-45.0</td>\n",
              "      <td>-77.0</td>\n",
              "      <td>NaN</td>\n",
              "      <td>NaN</td>\n",
              "    </tr>\n",
              "  </tbody>\n",
              "</table>\n",
              "<p>152 rows × 148 columns</p>\n",
              "</div>\n",
              "      <button class=\"colab-df-convert\" onclick=\"convertToInteractive('df-ca994b29-1a3b-4425-81b4-b7d0c8aa805a')\"\n",
              "              title=\"Convert this dataframe to an interactive table.\"\n",
              "              style=\"display:none;\">\n",
              "        \n",
              "  <svg xmlns=\"http://www.w3.org/2000/svg\" height=\"24px\"viewBox=\"0 0 24 24\"\n",
              "       width=\"24px\">\n",
              "    <path d=\"M0 0h24v24H0V0z\" fill=\"none\"/>\n",
              "    <path d=\"M18.56 5.44l.94 2.06.94-2.06 2.06-.94-2.06-.94-.94-2.06-.94 2.06-2.06.94zm-11 1L8.5 8.5l.94-2.06 2.06-.94-2.06-.94L8.5 2.5l-.94 2.06-2.06.94zm10 10l.94 2.06.94-2.06 2.06-.94-2.06-.94-.94-2.06-.94 2.06-2.06.94z\"/><path d=\"M17.41 7.96l-1.37-1.37c-.4-.4-.92-.59-1.43-.59-.52 0-1.04.2-1.43.59L10.3 9.45l-7.72 7.72c-.78.78-.78 2.05 0 2.83L4 21.41c.39.39.9.59 1.41.59.51 0 1.02-.2 1.41-.59l7.78-7.78 2.81-2.81c.8-.78.8-2.07 0-2.86zM5.41 20L4 18.59l7.72-7.72 1.47 1.35L5.41 20z\"/>\n",
              "  </svg>\n",
              "      </button>\n",
              "      \n",
              "  <style>\n",
              "    .colab-df-container {\n",
              "      display:flex;\n",
              "      flex-wrap:wrap;\n",
              "      gap: 12px;\n",
              "    }\n",
              "\n",
              "    .colab-df-convert {\n",
              "      background-color: #E8F0FE;\n",
              "      border: none;\n",
              "      border-radius: 50%;\n",
              "      cursor: pointer;\n",
              "      display: none;\n",
              "      fill: #1967D2;\n",
              "      height: 32px;\n",
              "      padding: 0 0 0 0;\n",
              "      width: 32px;\n",
              "    }\n",
              "\n",
              "    .colab-df-convert:hover {\n",
              "      background-color: #E2EBFA;\n",
              "      box-shadow: 0px 1px 2px rgba(60, 64, 67, 0.3), 0px 1px 3px 1px rgba(60, 64, 67, 0.15);\n",
              "      fill: #174EA6;\n",
              "    }\n",
              "\n",
              "    [theme=dark] .colab-df-convert {\n",
              "      background-color: #3B4455;\n",
              "      fill: #D2E3FC;\n",
              "    }\n",
              "\n",
              "    [theme=dark] .colab-df-convert:hover {\n",
              "      background-color: #434B5C;\n",
              "      box-shadow: 0px 1px 3px 1px rgba(0, 0, 0, 0.15);\n",
              "      filter: drop-shadow(0px 1px 2px rgba(0, 0, 0, 0.3));\n",
              "      fill: #FFFFFF;\n",
              "    }\n",
              "  </style>\n",
              "\n",
              "      <script>\n",
              "        const buttonEl =\n",
              "          document.querySelector('#df-ca994b29-1a3b-4425-81b4-b7d0c8aa805a button.colab-df-convert');\n",
              "        buttonEl.style.display =\n",
              "          google.colab.kernel.accessAllowed ? 'block' : 'none';\n",
              "\n",
              "        async function convertToInteractive(key) {\n",
              "          const element = document.querySelector('#df-ca994b29-1a3b-4425-81b4-b7d0c8aa805a');\n",
              "          const dataTable =\n",
              "            await google.colab.kernel.invokeFunction('convertToInteractive',\n",
              "                                                     [key], {});\n",
              "          if (!dataTable) return;\n",
              "\n",
              "          const docLinkHtml = 'Like what you see? Visit the ' +\n",
              "            '<a target=\"_blank\" href=https://colab.research.google.com/notebooks/data_table.ipynb>data table notebook</a>'\n",
              "            + ' to learn more about interactive tables.';\n",
              "          element.innerHTML = '';\n",
              "          dataTable['output_type'] = 'display_data';\n",
              "          await google.colab.output.renderOutput(dataTable, element);\n",
              "          const docLink = document.createElement('div');\n",
              "          docLink.innerHTML = docLinkHtml;\n",
              "          element.appendChild(docLink);\n",
              "        }\n",
              "      </script>\n",
              "    </div>\n",
              "  </div>\n",
              "  "
            ]
          },
          "metadata": {},
          "execution_count": 8
        }
      ],
      "source": [
        "formatedTotalSignalsDf = pd.DataFrame()\n",
        "for index, row in df.iterrows():\n",
        "  signalsDf = pd.DataFrame(row.signals)\n",
        "  signalsDf = signalsDf.drop('_id', axis=1)\n",
        "  macAddressArray = signalsDf['macAddress']\n",
        "  strengthArray = signalsDf['strength']\n",
        "\n",
        "  formatedDfData = {}\n",
        "  for signalsIndex, signalsRow in signalsDf.iterrows():\n",
        "    formatedDfData[signalsRow.macAddress] = signalsRow.strength \n",
        "\n",
        "  formatedSignalsDf = pd.DataFrame(formatedDfData, [index])\n",
        "  \n",
        "  formatedTotalSignalsDf = pd.concat([formatedTotalSignalsDf, formatedSignalsDf])\n",
        " \n",
        "df = pd.concat([df, formatedTotalSignalsDf], axis=1)"
      ]
    },
    {
      "cell_type": "markdown",
      "source": [
        "## Exclusão de colunas que não serão utilizadas para treinar o modelo"
      ],
      "metadata": {
        "id": "zyuzApBEDtUP"
      }
    },
    {
      "cell_type": "code",
      "execution_count": 9,
      "metadata": {
        "id": "JVVZU4GFt3js"
      },
      "outputs": [],
      "source": [
        "#Exclusão das colunas que não serão utilizadas\n",
        "df = df.drop('signals', axis=1)\n",
        "df = df.drop('createdAt', axis = 1)\n",
        "id_column = df['_id']\n",
        "df = df.drop('_id', axis=1)\n",
        "df = df.drop('deviceId', axis=1)\n",
        "df = df.drop('__v', axis = 1)\n",
        "df = df.drop('updatedAt', axis = 1)\n",
        "if 'battery' in df.columns:\n",
        "  df = df.drop('battery', axis = 1)"
      ]
    },
    {
      "cell_type": "code",
      "execution_count": 10,
      "metadata": {
        "id": "KxOpRtGbXDLd"
      },
      "outputs": [],
      "source": [
        "#Preencher NaN com 0\n",
        "df = df.fillna(0)"
      ]
    },
    {
      "cell_type": "code",
      "execution_count": 24,
      "metadata": {
        "colab": {
          "base_uri": "https://localhost:8080/",
          "height": 299
        },
        "id": "RYTi3l9xSqcg",
        "outputId": "a86b0d62-841e-46f7-b50f-f8e91bb77df4"
      },
      "outputs": [
        {
          "output_type": "execute_result",
          "data": {
            "text/plain": [
              "       room  F6:12:FA:E2:55:04  FE:F6:3A:68:98:A3  FC:5C:45:C0:63:58  \\\n",
              "0  05/01/01              -46.0              -52.0              -67.0   \n",
              "1  05/01/01                0.0              -46.0                0.0   \n",
              "2  05/01/01                0.0              -56.0              -79.0   \n",
              "3  05/01/01                0.0              -59.0              -76.0   \n",
              "4  05/01/01                0.0              -59.0              -80.0   \n",
              "\n",
              "   FC:5C:45:00:63:58  FC:5C:45:C0:63:59  FC:5C:45:00:57:48  FC:5C:45:C0:57:48  \\\n",
              "0              -68.0              -68.0              -69.0              -69.0   \n",
              "1              -79.0              -78.0              -65.0              -66.0   \n",
              "2              -78.0              -79.0              -61.0              -61.0   \n",
              "3              -82.0              -76.0              -53.0              -53.0   \n",
              "4              -79.0              -80.0              -52.0              -52.0   \n",
              "\n",
              "   FC:5C:45:C0:57:49  FC:5C:45:00:57:4A  ...  FC:5C:45:C0:5F:68  \\\n",
              "0              -70.0              -70.0  ...                0.0   \n",
              "1              -66.0              -65.0  ...                0.0   \n",
              "2              -61.0              -60.0  ...                0.0   \n",
              "3              -53.0              -53.0  ...                0.0   \n",
              "4              -52.0              -52.0  ...                0.0   \n",
              "\n",
              "   FC:5C:45:C0:5F:69  FC:5C:45:00:5F:6A  F6:12:FA:E2:3F:24  FC:5C:45:C0:55:13  \\\n",
              "0                0.0                0.0                0.0                0.0   \n",
              "1                0.0                0.0                0.0                0.0   \n",
              "2                0.0                0.0                0.0                0.0   \n",
              "3                0.0                0.0                0.0                0.0   \n",
              "4                0.0                0.0                0.0                0.0   \n",
              "\n",
              "   8A:29:A4:23:08:AC  F6:12:FA:E2:06:18  96:00:DA:76:2A:CD  EE:4A:23:4A:FB:C9  \\\n",
              "0                0.0                0.0                0.0                0.0   \n",
              "1                0.0                0.0                0.0                0.0   \n",
              "2                0.0                0.0                0.0                0.0   \n",
              "3                0.0                0.0                0.0                0.0   \n",
              "4                0.0                0.0                0.0                0.0   \n",
              "\n",
              "   6E:C7:EC:79:19:D0  \n",
              "0                0.0  \n",
              "1                0.0  \n",
              "2                0.0  \n",
              "3                0.0  \n",
              "4                0.0  \n",
              "\n",
              "[5 rows x 141 columns]"
            ],
            "text/html": [
              "\n",
              "  <div id=\"df-a7bc34cc-5c2c-4c60-bdf2-3259afabe09d\">\n",
              "    <div class=\"colab-df-container\">\n",
              "      <div>\n",
              "<style scoped>\n",
              "    .dataframe tbody tr th:only-of-type {\n",
              "        vertical-align: middle;\n",
              "    }\n",
              "\n",
              "    .dataframe tbody tr th {\n",
              "        vertical-align: top;\n",
              "    }\n",
              "\n",
              "    .dataframe thead th {\n",
              "        text-align: right;\n",
              "    }\n",
              "</style>\n",
              "<table border=\"1\" class=\"dataframe\">\n",
              "  <thead>\n",
              "    <tr style=\"text-align: right;\">\n",
              "      <th></th>\n",
              "      <th>room</th>\n",
              "      <th>F6:12:FA:E2:55:04</th>\n",
              "      <th>FE:F6:3A:68:98:A3</th>\n",
              "      <th>FC:5C:45:C0:63:58</th>\n",
              "      <th>FC:5C:45:00:63:58</th>\n",
              "      <th>FC:5C:45:C0:63:59</th>\n",
              "      <th>FC:5C:45:00:57:48</th>\n",
              "      <th>FC:5C:45:C0:57:48</th>\n",
              "      <th>FC:5C:45:C0:57:49</th>\n",
              "      <th>FC:5C:45:00:57:4A</th>\n",
              "      <th>...</th>\n",
              "      <th>FC:5C:45:C0:5F:68</th>\n",
              "      <th>FC:5C:45:C0:5F:69</th>\n",
              "      <th>FC:5C:45:00:5F:6A</th>\n",
              "      <th>F6:12:FA:E2:3F:24</th>\n",
              "      <th>FC:5C:45:C0:55:13</th>\n",
              "      <th>8A:29:A4:23:08:AC</th>\n",
              "      <th>F6:12:FA:E2:06:18</th>\n",
              "      <th>96:00:DA:76:2A:CD</th>\n",
              "      <th>EE:4A:23:4A:FB:C9</th>\n",
              "      <th>6E:C7:EC:79:19:D0</th>\n",
              "    </tr>\n",
              "  </thead>\n",
              "  <tbody>\n",
              "    <tr>\n",
              "      <th>0</th>\n",
              "      <td>05/01/01</td>\n",
              "      <td>-46.0</td>\n",
              "      <td>-52.0</td>\n",
              "      <td>-67.0</td>\n",
              "      <td>-68.0</td>\n",
              "      <td>-68.0</td>\n",
              "      <td>-69.0</td>\n",
              "      <td>-69.0</td>\n",
              "      <td>-70.0</td>\n",
              "      <td>-70.0</td>\n",
              "      <td>...</td>\n",
              "      <td>0.0</td>\n",
              "      <td>0.0</td>\n",
              "      <td>0.0</td>\n",
              "      <td>0.0</td>\n",
              "      <td>0.0</td>\n",
              "      <td>0.0</td>\n",
              "      <td>0.0</td>\n",
              "      <td>0.0</td>\n",
              "      <td>0.0</td>\n",
              "      <td>0.0</td>\n",
              "    </tr>\n",
              "    <tr>\n",
              "      <th>1</th>\n",
              "      <td>05/01/01</td>\n",
              "      <td>0.0</td>\n",
              "      <td>-46.0</td>\n",
              "      <td>0.0</td>\n",
              "      <td>-79.0</td>\n",
              "      <td>-78.0</td>\n",
              "      <td>-65.0</td>\n",
              "      <td>-66.0</td>\n",
              "      <td>-66.0</td>\n",
              "      <td>-65.0</td>\n",
              "      <td>...</td>\n",
              "      <td>0.0</td>\n",
              "      <td>0.0</td>\n",
              "      <td>0.0</td>\n",
              "      <td>0.0</td>\n",
              "      <td>0.0</td>\n",
              "      <td>0.0</td>\n",
              "      <td>0.0</td>\n",
              "      <td>0.0</td>\n",
              "      <td>0.0</td>\n",
              "      <td>0.0</td>\n",
              "    </tr>\n",
              "    <tr>\n",
              "      <th>2</th>\n",
              "      <td>05/01/01</td>\n",
              "      <td>0.0</td>\n",
              "      <td>-56.0</td>\n",
              "      <td>-79.0</td>\n",
              "      <td>-78.0</td>\n",
              "      <td>-79.0</td>\n",
              "      <td>-61.0</td>\n",
              "      <td>-61.0</td>\n",
              "      <td>-61.0</td>\n",
              "      <td>-60.0</td>\n",
              "      <td>...</td>\n",
              "      <td>0.0</td>\n",
              "      <td>0.0</td>\n",
              "      <td>0.0</td>\n",
              "      <td>0.0</td>\n",
              "      <td>0.0</td>\n",
              "      <td>0.0</td>\n",
              "      <td>0.0</td>\n",
              "      <td>0.0</td>\n",
              "      <td>0.0</td>\n",
              "      <td>0.0</td>\n",
              "    </tr>\n",
              "    <tr>\n",
              "      <th>3</th>\n",
              "      <td>05/01/01</td>\n",
              "      <td>0.0</td>\n",
              "      <td>-59.0</td>\n",
              "      <td>-76.0</td>\n",
              "      <td>-82.0</td>\n",
              "      <td>-76.0</td>\n",
              "      <td>-53.0</td>\n",
              "      <td>-53.0</td>\n",
              "      <td>-53.0</td>\n",
              "      <td>-53.0</td>\n",
              "      <td>...</td>\n",
              "      <td>0.0</td>\n",
              "      <td>0.0</td>\n",
              "      <td>0.0</td>\n",
              "      <td>0.0</td>\n",
              "      <td>0.0</td>\n",
              "      <td>0.0</td>\n",
              "      <td>0.0</td>\n",
              "      <td>0.0</td>\n",
              "      <td>0.0</td>\n",
              "      <td>0.0</td>\n",
              "    </tr>\n",
              "    <tr>\n",
              "      <th>4</th>\n",
              "      <td>05/01/01</td>\n",
              "      <td>0.0</td>\n",
              "      <td>-59.0</td>\n",
              "      <td>-80.0</td>\n",
              "      <td>-79.0</td>\n",
              "      <td>-80.0</td>\n",
              "      <td>-52.0</td>\n",
              "      <td>-52.0</td>\n",
              "      <td>-52.0</td>\n",
              "      <td>-52.0</td>\n",
              "      <td>...</td>\n",
              "      <td>0.0</td>\n",
              "      <td>0.0</td>\n",
              "      <td>0.0</td>\n",
              "      <td>0.0</td>\n",
              "      <td>0.0</td>\n",
              "      <td>0.0</td>\n",
              "      <td>0.0</td>\n",
              "      <td>0.0</td>\n",
              "      <td>0.0</td>\n",
              "      <td>0.0</td>\n",
              "    </tr>\n",
              "  </tbody>\n",
              "</table>\n",
              "<p>5 rows × 141 columns</p>\n",
              "</div>\n",
              "      <button class=\"colab-df-convert\" onclick=\"convertToInteractive('df-a7bc34cc-5c2c-4c60-bdf2-3259afabe09d')\"\n",
              "              title=\"Convert this dataframe to an interactive table.\"\n",
              "              style=\"display:none;\">\n",
              "        \n",
              "  <svg xmlns=\"http://www.w3.org/2000/svg\" height=\"24px\"viewBox=\"0 0 24 24\"\n",
              "       width=\"24px\">\n",
              "    <path d=\"M0 0h24v24H0V0z\" fill=\"none\"/>\n",
              "    <path d=\"M18.56 5.44l.94 2.06.94-2.06 2.06-.94-2.06-.94-.94-2.06-.94 2.06-2.06.94zm-11 1L8.5 8.5l.94-2.06 2.06-.94-2.06-.94L8.5 2.5l-.94 2.06-2.06.94zm10 10l.94 2.06.94-2.06 2.06-.94-2.06-.94-.94-2.06-.94 2.06-2.06.94z\"/><path d=\"M17.41 7.96l-1.37-1.37c-.4-.4-.92-.59-1.43-.59-.52 0-1.04.2-1.43.59L10.3 9.45l-7.72 7.72c-.78.78-.78 2.05 0 2.83L4 21.41c.39.39.9.59 1.41.59.51 0 1.02-.2 1.41-.59l7.78-7.78 2.81-2.81c.8-.78.8-2.07 0-2.86zM5.41 20L4 18.59l7.72-7.72 1.47 1.35L5.41 20z\"/>\n",
              "  </svg>\n",
              "      </button>\n",
              "      \n",
              "  <style>\n",
              "    .colab-df-container {\n",
              "      display:flex;\n",
              "      flex-wrap:wrap;\n",
              "      gap: 12px;\n",
              "    }\n",
              "\n",
              "    .colab-df-convert {\n",
              "      background-color: #E8F0FE;\n",
              "      border: none;\n",
              "      border-radius: 50%;\n",
              "      cursor: pointer;\n",
              "      display: none;\n",
              "      fill: #1967D2;\n",
              "      height: 32px;\n",
              "      padding: 0 0 0 0;\n",
              "      width: 32px;\n",
              "    }\n",
              "\n",
              "    .colab-df-convert:hover {\n",
              "      background-color: #E2EBFA;\n",
              "      box-shadow: 0px 1px 2px rgba(60, 64, 67, 0.3), 0px 1px 3px 1px rgba(60, 64, 67, 0.15);\n",
              "      fill: #174EA6;\n",
              "    }\n",
              "\n",
              "    [theme=dark] .colab-df-convert {\n",
              "      background-color: #3B4455;\n",
              "      fill: #D2E3FC;\n",
              "    }\n",
              "\n",
              "    [theme=dark] .colab-df-convert:hover {\n",
              "      background-color: #434B5C;\n",
              "      box-shadow: 0px 1px 3px 1px rgba(0, 0, 0, 0.15);\n",
              "      filter: drop-shadow(0px 1px 2px rgba(0, 0, 0, 0.3));\n",
              "      fill: #FFFFFF;\n",
              "    }\n",
              "  </style>\n",
              "\n",
              "      <script>\n",
              "        const buttonEl =\n",
              "          document.querySelector('#df-a7bc34cc-5c2c-4c60-bdf2-3259afabe09d button.colab-df-convert');\n",
              "        buttonEl.style.display =\n",
              "          google.colab.kernel.accessAllowed ? 'block' : 'none';\n",
              "\n",
              "        async function convertToInteractive(key) {\n",
              "          const element = document.querySelector('#df-a7bc34cc-5c2c-4c60-bdf2-3259afabe09d');\n",
              "          const dataTable =\n",
              "            await google.colab.kernel.invokeFunction('convertToInteractive',\n",
              "                                                     [key], {});\n",
              "          if (!dataTable) return;\n",
              "\n",
              "          const docLinkHtml = 'Like what you see? Visit the ' +\n",
              "            '<a target=\"_blank\" href=https://colab.research.google.com/notebooks/data_table.ipynb>data table notebook</a>'\n",
              "            + ' to learn more about interactive tables.';\n",
              "          element.innerHTML = '';\n",
              "          dataTable['output_type'] = 'display_data';\n",
              "          await google.colab.output.renderOutput(dataTable, element);\n",
              "          const docLink = document.createElement('div');\n",
              "          docLink.innerHTML = docLinkHtml;\n",
              "          element.appendChild(docLink);\n",
              "        }\n",
              "      </script>\n",
              "    </div>\n",
              "  </div>\n",
              "  "
            ]
          },
          "metadata": {},
          "execution_count": 24
        }
      ],
      "source": [
        "df.head(5)"
      ]
    },
    {
      "cell_type": "markdown",
      "metadata": {
        "id": "3N8bfXiuasCl"
      },
      "source": [
        "#Treinamento do modelo"
      ]
    },
    {
      "cell_type": "markdown",
      "metadata": {
        "id": "vL7FXOOJa2jz"
      },
      "source": [
        "Para fornecer a localização do dispositivo, foi escolhido o modelo de classificação RandomForest do scikit-learn."
      ]
    },
    {
      "cell_type": "code",
      "execution_count": 12,
      "metadata": {
        "id": "J720dFNrXF7W"
      },
      "outputs": [],
      "source": [
        "#Aqui vamos dividir o treinamento e teste\n",
        "from sklearn.model_selection import train_test_split\n",
        "\n",
        "# Dividindo x e y\n",
        "x = df.drop('room', axis=1)\n",
        "y = df['room']"
      ]
    },
    {
      "cell_type": "markdown",
      "source": [
        "## Oversampling dos dados para balancear o dataset"
      ],
      "metadata": {
        "id": "3zJqlmxfD98g"
      }
    },
    {
      "cell_type": "code",
      "source": [
        "from imblearn.over_sampling import RandomOverSampler\n",
        "oversample = RandomOverSampler(random_state=42)\n",
        "X_over, y_over = oversample.fit_resample(x, y)"
      ],
      "metadata": {
        "id": "-0uFy0fmzzaB"
      },
      "execution_count": 13,
      "outputs": []
    },
    {
      "cell_type": "markdown",
      "source": [
        "## Dividindo a base de dados em set de treinamento e teste"
      ],
      "metadata": {
        "id": "lu0zXUpfEF6b"
      }
    },
    {
      "cell_type": "code",
      "source": [
        "# Dividindo dados para treino e dados para teste\n",
        "x_train, x_test, y_train, y_test = train_test_split(x, y, test_size = 0.2, random_state = 42)"
      ],
      "metadata": {
        "id": "WITnhgo-z1oS"
      },
      "execution_count": 14,
      "outputs": []
    },
    {
      "cell_type": "markdown",
      "source": [
        "## Treinando o modelo"
      ],
      "metadata": {
        "id": "59PInthvEQ90"
      }
    },
    {
      "cell_type": "code",
      "execution_count": 16,
      "metadata": {
        "colab": {
          "base_uri": "https://localhost:8080/"
        },
        "id": "Q51sV_Ixo4Fo",
        "outputId": "c7a6d977-64e9-4afd-b69c-08e697c3ff77"
      },
      "outputs": [
        {
          "output_type": "execute_result",
          "data": {
            "text/plain": [
              "RandomForestClassifier(criterion='entropy', random_state=42)"
            ]
          },
          "metadata": {},
          "execution_count": 16
        }
      ],
      "source": [
        "from sklearn.ensemble import RandomForestClassifier\n",
        "\n",
        "rfc = RandomForestClassifier(criterion='entropy', random_state=42)\n",
        "rfc.fit(x_train, y_train)"
      ]
    },
    {
      "cell_type": "markdown",
      "source": [
        "## Predizendo a coluna room com o modelo já treinado"
      ],
      "metadata": {
        "id": "Rx_cL7O3EUNm"
      }
    },
    {
      "cell_type": "code",
      "execution_count": 17,
      "metadata": {
        "colab": {
          "base_uri": "https://localhost:8080/"
        },
        "id": "tq3yC5Q3o5La",
        "outputId": "54dea049-b6b1-4318-cc8f-e366f7c53fbb"
      },
      "outputs": [
        {
          "output_type": "execute_result",
          "data": {
            "text/plain": [
              "array(['05/01/01', '05/02/10', '05/02/08', '05/01/02', '05/02/10',\n",
              "       '05/02/10', '05/01/04', '05/02/06', '05/02/06', '05/02/06',\n",
              "       '05/02/10', '05/02/08', '05/02/08', '05/02/06', '05/01/01',\n",
              "       '05/01/01', '05/01/01', '05/02/09', '05/02/08', '05/02/08',\n",
              "       '05/02/08', '05/02/09', '05/01/01', '05/01/01', '05/01/01',\n",
              "       '05/02/10', '05/02/09', '05/01/02', '05/02/08', '05/03/01',\n",
              "       '05/01/02'], dtype=object)"
            ]
          },
          "metadata": {},
          "execution_count": 17
        }
      ],
      "source": [
        "y_pred = rfc.predict(x_test)"
      ]
    },
    {
      "cell_type": "markdown",
      "source": [
        "## Resultados do modelo"
      ],
      "metadata": {
        "id": "Mqg8kVYSEbEl"
      }
    },
    {
      "cell_type": "code",
      "execution_count": 18,
      "metadata": {
        "colab": {
          "base_uri": "https://localhost:8080/"
        },
        "id": "Q1cBEo2voLYM",
        "outputId": "52e07046-aa30-4e50-a6e0-3a5311b0c3e8"
      },
      "outputs": [
        {
          "output_type": "execute_result",
          "data": {
            "text/plain": [
              "1.0"
            ]
          },
          "metadata": {},
          "execution_count": 18
        }
      ],
      "source": [
        "accuracy_score(y_test, y_pred)"
      ]
    },
    {
      "cell_type": "code",
      "execution_count": 19,
      "metadata": {
        "colab": {
          "base_uri": "https://localhost:8080/"
        },
        "id": "S-VDzMlw3Dok",
        "outputId": "9edc5a9c-fb76-4663-c25b-d169f17c32cc"
      },
      "outputs": [
        {
          "output_type": "execute_result",
          "data": {
            "text/plain": [
              "1.0"
            ]
          },
          "metadata": {},
          "execution_count": 19
        }
      ],
      "source": [
        "precision_score(y_test, y_pred, average='micro')"
      ]
    },
    {
      "cell_type": "code",
      "execution_count": 20,
      "metadata": {
        "colab": {
          "base_uri": "https://localhost:8080/"
        },
        "id": "3crJ3OKc3FcN",
        "outputId": "6375c08d-1354-4317-e5b3-1b8d1611388d"
      },
      "outputs": [
        {
          "output_type": "execute_result",
          "data": {
            "text/plain": [
              "1.0"
            ]
          },
          "metadata": {},
          "execution_count": 20
        }
      ],
      "source": [
        "recall_score(y_test, y_pred, average='micro')"
      ]
    },
    {
      "cell_type": "code",
      "execution_count": 21,
      "metadata": {
        "colab": {
          "base_uri": "https://localhost:8080/"
        },
        "id": "V9yh6fn3cd2F",
        "outputId": "9abc9c20-4e8a-4b4e-95ff-606c934654f5"
      },
      "outputs": [
        {
          "output_type": "stream",
          "name": "stdout",
          "text": [
            "ERROR: unknown command \"install shap\" - maybe you meant \"install\"\n"
          ]
        }
      ],
      "source": [
        "!pip install -U -q PyDrive\n",
        "!pip install shap"
      ]
    },
    {
      "cell_type": "markdown",
      "source": [
        "#Exportação do modelo para a utilização em outro colab"
      ],
      "metadata": {
        "id": "MyJATNM1EgAP"
      }
    },
    {
      "cell_type": "code",
      "execution_count": 22,
      "metadata": {
        "colab": {
          "base_uri": "https://localhost:8080/"
        },
        "id": "ngbJTBrocMbu",
        "outputId": "54e9c529-89bb-47fb-958a-25076e314ede"
      },
      "outputs": [
        {
          "output_type": "stream",
          "name": "stdout",
          "text": [
            "Mounted at /content/drive\n"
          ]
        }
      ],
      "source": [
        "from google.colab import drive\n",
        "drive.mount('/content/drive')"
      ]
    },
    {
      "cell_type": "code",
      "execution_count": 23,
      "metadata": {
        "id": "fo_B6OU8cPGS",
        "colab": {
          "base_uri": "https://localhost:8080/"
        },
        "outputId": "275ec622-ccf1-487d-fd7e-6e10d7f53ea2"
      },
      "outputs": [
        {
          "output_type": "execute_result",
          "data": {
            "text/plain": [
              "['/content/drive/MyDrive/Colab Notebooks/modelos/localizacao.model']"
            ]
          },
          "metadata": {},
          "execution_count": 23
        }
      ],
      "source": [
        "from joblib import dump\n",
        "\n",
        "dump(rfc, '/content/drive/MyDrive/Colab Notebooks/modelos/localizacao.model')"
      ]
    }
  ],
  "metadata": {
    "colab": {
      "provenance": [],
      "collapsed_sections": [
        "zrgf1KG7gHt5"
      ],
      "toc_visible": true
    },
    "gpuClass": "standard",
    "kernelspec": {
      "display_name": "Python 3",
      "name": "python3"
    },
    "language_info": {
      "name": "python"
    }
  },
  "nbformat": 4,
  "nbformat_minor": 0
}